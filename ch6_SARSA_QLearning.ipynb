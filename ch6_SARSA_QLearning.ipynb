{
 "cells": [
  {
   "cell_type": "markdown",
   "metadata": {},
   "source": [
    "## Environment"
   ]
  },
  {
   "cell_type": "code",
   "execution_count": 13,
   "metadata": {},
   "outputs": [],
   "source": [
    "class GridWorld():\n",
    "    def __init__(self):\n",
    "        self.x=0\n",
    "        self.y=0\n",
    "\n",
    "    def step(self,a):\n",
    "        if a==0:\n",
    "            self.move_left()\n",
    "        elif a==1:\n",
    "            self.move_up()\n",
    "        elif a==2:\n",
    "            self.move_right()\n",
    "        elif a==3:\n",
    "            self.move_down()\n",
    "        reward = -1 # 보상은 항상 -1로 구정\n",
    "        done = self.is_done()\n",
    "        return (self.x,self.y),reward,done\n",
    "    \n",
    "    def move_left(self):\n",
    "        if self.y==0:\n",
    "            pass\n",
    "        elif self.y==3 and self.x in [0,1,2]:\n",
    "            pass\n",
    "        elif self.y==5 and self.x in [2,3,4]:\n",
    "            pass\n",
    "        else:\n",
    "            self.y-=1\n",
    "\n",
    "    def move_right(self):\n",
    "        if self.y==1 and self.x in [0,1,2]:\n",
    "            pass\n",
    "        elif self.y==3 and self.x in [2,3,4]:\n",
    "            pass\n",
    "        elif self.y==6:\n",
    "            pass\n",
    "        else:\n",
    "            self.y+=1\n",
    "\n",
    "    def move_up(self):\n",
    "        if self.x==0:\n",
    "            pass\n",
    "        elif self.x==3 and self.y==2:\n",
    "            pass\n",
    "        else:\n",
    "            self.x-=1\n",
    "\n",
    "    def move_down(self):\n",
    "        if self.x==4:\n",
    "            pass\n",
    "        elif self.x==1 and self.y==4:\n",
    "            pass\n",
    "        else:\n",
    "            self.x+=1\n",
    "\n",
    "    def is_done(self):\n",
    "        if self.x==4 and self.y==6: # 목표 지점에 도달하면 끝\n",
    "            return True\n",
    "        else:\n",
    "            return False\n",
    "        \n",
    "    def reset(self):\n",
    "        self.x=0\n",
    "        self.y=0\n",
    "        return (self.x,self.y)"
   ]
  },
  {
   "cell_type": "code",
   "execution_count": 14,
   "metadata": {},
   "outputs": [],
   "source": [
    "import random\n",
    "import numpy as np\n",
    "from utils.visualization import action_visualize"
   ]
  },
  {
   "cell_type": "markdown",
   "metadata": {},
   "source": [
    "# 방법1. MCControl"
   ]
  },
  {
   "cell_type": "markdown",
   "metadata": {},
   "source": [
    "## Agent"
   ]
  },
  {
   "cell_type": "code",
   "execution_count": 15,
   "metadata": {},
   "outputs": [],
   "source": [
    "class Agent():\n",
    "    def __init__(self):\n",
    "        self.q_table=np.zeros((5,7,4)) # q-value를 저장하는 변수, 모두 0으로 초기화\n",
    "        self.eps=0.9 # 랜덤 행동을 할 확률\n",
    "        self.gamma=1.0\n",
    "        self.alpha=0.01 # learning rate\n",
    "\n",
    "    def select_action(self,s):\n",
    "        # eps-greedy로 액션을 선택\n",
    "        x,y=s\n",
    "        coin=random.random()\n",
    "        if coin<self.eps:\n",
    "            action=random.randint(0,3)\n",
    "        else:\n",
    "            action_val=self.q_table[x,y,:]\n",
    "            action=np.argmax(action_val)\n",
    "        return action\n",
    "    \n",
    "    def update_table(self,history):\n",
    "        # 한 에피소드에 해당하는 history를 입력으로 받아 q-table을 업데이트\n",
    "        cum_reward=0\n",
    "        for transition in history[::-1]:\n",
    "            s,a,r,s_prime=transition\n",
    "            x,y=s\n",
    "            # 몬테카를로 방식\n",
    "            self.q_table[x,y,a] = self.q_table[x,y,a]+self.alpha*(cum_reward-self.q_table[x,y,a])\n",
    "            cum_reward= self.gamma*cum_reward+r\n",
    "    \n",
    "    def anneal_eps(self):\n",
    "        self.eps-=0.03\n",
    "        self.eps=max(self.eps,0.1)\n",
    "\n",
    "    def show_table(self):\n",
    "        q_lst=self.q_table.tolist()\n",
    "        data = np.zeros((5,7))\n",
    "        for row_idx in range(len(q_lst)):\n",
    "            row = q_lst[row_idx]\n",
    "            for col_idx in range(len(row)):\n",
    "                col = row[col_idx]\n",
    "                action = np.argmax(col)\n",
    "                data[row_idx,col_idx] = action\n",
    "        return data"
   ]
  },
  {
   "cell_type": "markdown",
   "metadata": {},
   "source": [
    "## 메인함수"
   ]
  },
  {
   "cell_type": "code",
   "execution_count": 16,
   "metadata": {},
   "outputs": [],
   "source": [
    "def MC_main():\n",
    "    env = GridWorld()\n",
    "    agent = Agent()\n",
    "    \n",
    "    for n_epi in range(1000):\n",
    "        done= False\n",
    "        history= []\n",
    "        \n",
    "        s = env.reset()\n",
    "        while not done: # 한 에피소드가 끝날 때까지\n",
    "            a=agent.select_action(s)\n",
    "            s_prime,r,done=env.step(a)\n",
    "            history.append((s,a,r,s_prime))\n",
    "            s=s_prime\n",
    "        agent.update_table(history)\n",
    "        agent.anneal_eps()\n",
    "\n",
    "    return agent.show_table()"
   ]
  },
  {
   "cell_type": "code",
   "execution_count": 17,
   "metadata": {},
   "outputs": [
    {
     "name": "stdout",
     "output_type": "stream",
     "text": [
      "[[3. 3. 0. 3. 2. 3. 3.]\n",
      " [3. 2. 0. 2. 2. 3. 3.]\n",
      " [3. 1. 0. 1. 0. 3. 0.]\n",
      " [2. 2. 2. 1. 0. 3. 3.]\n",
      " [1. 1. 2. 2. 0. 2. 0.]]\n"
     ]
    }
   ],
   "source": [
    "if __name__ == '__main__':\n",
    "    MC_action = MC_main()\n",
    "    print(MC_action)"
   ]
  },
  {
   "cell_type": "code",
   "execution_count": 18,
   "metadata": {},
   "outputs": [
    {
     "data": {
      "image/png": "[encoded data removed]",
      "text/plain": [
       "<Figure size 432x288 with 1 Axes>"
      ]
     },
     "metadata": {
      "needs_background": "light"
     },
     "output_type": "display_data"
    }
   ],
   "source": [
    "action_visualize(1000, MC_action)"
   ]
  },
  {
   "cell_type": "markdown",
   "metadata": {},
   "source": [
    "# 방법2. TD Control - SARSA"
   ]
  },
  {
   "cell_type": "markdown",
   "metadata": {},
   "source": [
    "## Agent"
   ]
  },
  {
   "cell_type": "code",
   "execution_count": 19,
   "metadata": {},
   "outputs": [],
   "source": [
    "class SAgent(Agent):\n",
    "    def update_table(self, transition):\n",
    "        s,a,r,s_prime=transition\n",
    "        x,y=s\n",
    "        next_x,next_y=s_prime\n",
    "        a_prime=self.select_action(s_prime)\n",
    "        self.q_table[x,y,a]=self.q_table[x,y,a]+self.alpha*(r+self.q_table[next_x,next_y,a_prime]-self.q_table[x,y,a])"
   ]
  },
  {
   "cell_type": "markdown",
   "metadata": {},
   "source": [
    "## 메인함수"
   ]
  },
  {
   "cell_type": "code",
   "execution_count": 21,
   "metadata": {},
   "outputs": [],
   "source": [
    "def TD_main():\n",
    "    env=GridWorld()\n",
    "    agent=SAgent()\n",
    "    \n",
    "    for n_epi in range(1000):\n",
    "        done=False\n",
    "        s=env.reset()\n",
    "        while not done:\n",
    "            a=agent.select_action(s)\n",
    "            s_prime,r,done=env.step(a)\n",
    "            agent.update_table((s,a,r,s_prime))\n",
    "            s=s_prime\n",
    "        agent.anneal_eps()\n",
    "    return agent.show_table()"
   ]
  },
  {
   "cell_type": "code",
   "execution_count": 22,
   "metadata": {},
   "outputs": [
    {
     "name": "stdout",
     "output_type": "stream",
     "text": [
      "[[3. 1. 0. 1. 1. 3. 1.]\n",
      " [0. 1. 0. 2. 2. 3. 3.]\n",
      " [3. 2. 0. 1. 0. 3. 3.]\n",
      " [1. 2. 3. 1. 0. 3. 3.]\n",
      " [0. 0. 2. 1. 0. 2. 0.]]\n"
     ]
    }
   ],
   "source": [
    "if __name__ == '__main__':\n",
    "    S_action = TD_main()\n",
    "    print(S_action)"
   ]
  },
  {
   "cell_type": "code",
   "execution_count": 24,
   "metadata": {},
   "outputs": [
    {
     "data": {
      "image/png": "[encoded data removed]",
      "text/plain": [
       "<Figure size 432x288 with 1 Axes>"
      ]
     },
     "metadata": {
      "needs_background": "light"
     },
     "output_type": "display_data"
    }
   ],
   "source": [
    "action_visualize(1000, S_action)"
   ]
  },
  {
   "cell_type": "markdown",
   "metadata": {},
   "source": [
    "# 방법3. TD Control - Q-Learning"
   ]
  },
  {
   "cell_type": "markdown",
   "metadata": {},
   "source": [
    "## Agent"
   ]
  },
  {
   "cell_type": "code",
   "execution_count": 25,
   "metadata": {},
   "outputs": [],
   "source": [
    "class QAgent(Agent):\n",
    "    def update_table(self, transition):\n",
    "        s,a,r,s_prime=transition\n",
    "        x,y=s\n",
    "        next_x,next_y=s_prime\n",
    "        self.q_table[x,y,a]=self.q_table[x,y,a]+self.alpha*(r+np.amax(self.q_table[next_x,next_y,:])-self.q_table[x,y,a])\n",
    "    \n",
    "    def anneal_eps(self):\n",
    "        self.eps-=0.01\n",
    "        self.eps=max(self.eps,0.2)"
   ]
  },
  {
   "cell_type": "markdown",
   "metadata": {},
   "source": [
    "## 메인함수"
   ]
  },
  {
   "cell_type": "code",
   "execution_count": 26,
   "metadata": {},
   "outputs": [],
   "source": [
    "def TD_main():\n",
    "    env=GridWorld()\n",
    "    agent=QAgent()\n",
    "    \n",
    "    for n_epi in range(1000):\n",
    "        done=False\n",
    "        s=env.reset()\n",
    "        while not done:\n",
    "            a=agent.select_action(s)\n",
    "            s_prime,r,done=env.step(a)\n",
    "            agent.update_table((s,a,r,s_prime))\n",
    "            s=s_prime\n",
    "        agent.anneal_eps()\n",
    "    return agent.show_table()"
   ]
  },
  {
   "cell_type": "code",
   "execution_count": 27,
   "metadata": {},
   "outputs": [
    {
     "name": "stdout",
     "output_type": "stream",
     "text": [
      "[[3. 2. 0. 0. 1. 1. 1.]\n",
      " [3. 2. 0. 2. 1. 3. 2.]\n",
      " [2. 1. 0. 1. 0. 3. 3.]\n",
      " [1. 3. 0. 3. 0. 3. 3.]\n",
      " [1. 2. 3. 0. 0. 3. 0.]]\n"
     ]
    }
   ],
   "source": [
    "if __name__ == '__main__':\n",
    "    Q_action = TD_main()\n",
    "    print(Q_action)"
   ]
  },
  {
   "cell_type": "code",
   "execution_count": 28,
   "metadata": {},
   "outputs": [
    {
     "data": {
      "image/png": "[encoded data removed]",
      "text/plain": [
       "<Figure size 432x288 with 1 Axes>"
      ]
     },
     "metadata": {
      "needs_background": "light"
     },
     "output_type": "display_data"
    }
   ],
   "source": [
    "action_visualize(1000, Q_action)"
   ]
  }
 ],
 "metadata": {
  "kernelspec": {
   "display_name": "Python 3",
   "language": "python",
   "name": "python3"
  },
  "language_info": {
   "codemirror_mode": {
    "name": "ipython",
    "version": 3
   },
   "file_extension": ".py",
   "mimetype": "text/x-python",
   "name": "python",
   "nbconvert_exporter": "python",
   "pygments_lexer": "ipython3",
   "version": "3.10.12"
  }
 },
 "nbformat": 4,
 "nbformat_minor": 2
}
