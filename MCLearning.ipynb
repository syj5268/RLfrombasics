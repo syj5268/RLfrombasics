{
 "cells": [
  {
   "cell_type": "code",
   "execution_count": 16,
   "metadata": {},
   "outputs": [],
   "source": [
    "import random"
   ]
  },
  {
   "cell_type": "code",
   "execution_count": 24,
   "metadata": {},
   "outputs": [],
   "source": [
    "def logging_time(original_fn):\n",
    "    import time\n",
    "    from functools import wraps\n",
    "\n",
    "    @wraps(original_fn)\n",
    "    def wrapper(*args, **kwargs):\n",
    "        start_time = time.time()\n",
    "        result = original_fn(*args, **kwargs)\n",
    "\n",
    "        end_time = time.time()\n",
    "        print(\"WorkingTime[{}]: {} sec\".format(original_fn.__name__, end_time - start_time))\n",
    "        return result\n",
    "    return wrapper"
   ]
  },
  {
   "cell_type": "markdown",
   "metadata": {},
   "source": [
    "## Environment"
   ]
  },
  {
   "cell_type": "code",
   "execution_count": 17,
   "metadata": {},
   "outputs": [],
   "source": [
    "class GridWorld():\n",
    "    def __init__(self): # 초기 위치 선정\n",
    "        self.x=0\n",
    "        self.y=0\n",
    "    \n",
    "    def step(self, a): # 액션에 따른 상태 변이, 보상 정의, 종결 여부 판단\n",
    "        # 4가지 action - 상하좌우\n",
    "        if a==0:\n",
    "            self.move_left()\n",
    "        elif a==1:\n",
    "            self.move_up()\n",
    "        elif a==2:\n",
    "            self.move_right()\n",
    "        elif a==3:\n",
    "            self.move_down()\n",
    "\n",
    "        reward = -1 # 보상은 항상 -1\n",
    "        done = self.is_done()\n",
    "        return (self.x, self.y), reward, done\n",
    "\n",
    "    def move_right(self): # 이동\n",
    "        self.y += 1  \n",
    "        if self.y > 3:\n",
    "            self.y = 3\n",
    "      \n",
    "    def move_left(self): # 이동\n",
    "        self.y -= 1\n",
    "        if self.y < 0:\n",
    "            self.y = 0\n",
    "      \n",
    "    def move_up(self): # 이동\n",
    "        self.x -= 1\n",
    "        if self.x < 0:\n",
    "            self.x = 0\n",
    "  \n",
    "    def move_down(self): # 이동\n",
    "        self.x += 1\n",
    "        if self.x > 3:\n",
    "            self.x = 3\n",
    "\n",
    "    def is_done(self): # 에피소드가 끝났는지 판단\n",
    "        if self.x == 3 and self.y == 3:\n",
    "            return True\n",
    "        else :\n",
    "            return False\n",
    "\n",
    "    def get_state(self): # 현재 위치 반환\n",
    "        return (self.x, self.y)\n",
    "      \n",
    "    def reset(self): # 초기화\n",
    "        self.x = 0\n",
    "        self.y = 0\n",
    "        return (self.x, self.y)"
   ]
  },
  {
   "cell_type": "markdown",
   "metadata": {},
   "source": [
    "## Agent"
   ]
  },
  {
   "cell_type": "code",
   "execution_count": 18,
   "metadata": {},
   "outputs": [],
   "source": [
    "class Agent():\n",
    "    def __init__(self):\n",
    "        pass\n",
    "\n",
    "    def select_action(self): # 랜덤하게 액션을 선택하는 정책\n",
    "        coin = random.random()\n",
    "\n",
    "        # 확률 분포의 형태\n",
    "        if coin < 0.25:\n",
    "            action = 0\n",
    "        elif coin < 0.5:\n",
    "            action = 1\n",
    "        elif coin < 0.75:\n",
    "            action = 2\n",
    "        else:\n",
    "            action = 3\n",
    "        return action"
   ]
  },
  {
   "cell_type": "markdown",
   "metadata": {},
   "source": [
    "## MC 실행"
   ]
  },
  {
   "cell_type": "code",
   "execution_count": 25,
   "metadata": {},
   "outputs": [],
   "source": [
    "@logging_time\n",
    "def main():\n",
    "    env = GridWorld()\n",
    "    agent = Agent()\n",
    "    data = [[0] * 4 for _ in range(4)] # 4x4 크기의 0으로 채워진 2차원 리스트 생성\n",
    "    gamma = 1.0\n",
    "    alpha = 0.0001\n",
    "\n",
    "    for _ in range(50000) : # 총 50000번의 에피소드 진행\n",
    "        done = False\n",
    "        history = []\n",
    "        while not done:\n",
    "            action = agent.select_action() # 정책에 따라 액션 선택\n",
    "            (x,y), reward, done = env.step(action) # 액션에 따른 상태 변이\n",
    "            history.append((x,y,reward)) # 에피소드의 상태, 보상 정보 저장\n",
    "        env.reset() # 에피소드가 끝나면 환경 초기화\n",
    "\n",
    "        # 매 에피소드가 끝나고 바로 해당 데이터를 이용해 테이블을 업데이트\n",
    "        cum_reward = 0\n",
    "        for transition in history[::-1]:\n",
    "            # 방문했던 상태들을 뒤에서부터 보며 차례차례 리턴을 계산\n",
    "            x, y, reward = transition\n",
    "            data[x][y] = data[x][y] + alpha * (cum_reward - data[x][y])\n",
    "            cum_reward = reward + gamma * cum_reward\n",
    "    \n",
    "    return data"
   ]
  },
  {
   "cell_type": "code",
   "execution_count": 26,
   "metadata": {},
   "outputs": [
    {
     "name": "stdout",
     "output_type": "stream",
     "text": [
      "WorkingTime[main]: 1.5207290649414062 sec\n",
      "[-58.07162999147687, -55.96706734885653, -52.63755035941325, -50.58554798280284]\n",
      "[-56.5626315066358, -53.2992747179113, -48.39964468256098, -43.50603921126412]\n",
      "[-53.72415077745313, -48.5189293936831, -39.57823200618536, -28.741587721729935]\n",
      "[-51.93925750969205, -44.38532270969551, -29.51678797451844, 0.0]\n"
     ]
    }
   ],
   "source": [
    "MC_result = main()\n",
    "# 학습이 끝나고 난 후 데이터를 출력해보기 위한 코드\n",
    "for row in MC_result:\n",
    "    print(row)"
   ]
  }
 ],
 "metadata": {
  "kernelspec": {
   "display_name": "Python 3",
   "language": "python",
   "name": "python3"
  },
  "language_info": {
   "codemirror_mode": {
    "name": "ipython",
    "version": 3
   },
   "file_extension": ".py",
   "mimetype": "text/x-python",
   "name": "python",
   "nbconvert_exporter": "python",
   "pygments_lexer": "ipython3",
   "version": "3.10.12"
  }
 },
 "nbformat": 4,
 "nbformat_minor": 2
}
