{
 "cells": [
  {
   "cell_type": "markdown",
   "metadata": {},
   "source": [
    "# 함수 근사 관찰을 위한 신경망의 학습 구현"
   ]
  },
  {
   "cell_type": "code",
   "execution_count": 7,
   "metadata": {},
   "outputs": [],
   "source": [
    "import torch\n",
    "import torch.nn as nn\n",
    "import torch.nn.functional as F\n",
    "import torch.optim as optim\n",
    "\n",
    "import numpy as np\n",
    "import matplotlib.pyplot as plt\n",
    "\n",
    "from utils.function_time import logging_time"
   ]
  },
  {
   "cell_type": "markdown",
   "metadata": {},
   "source": [
    "## 신경망 구현"
   ]
  },
  {
   "cell_type": "code",
   "execution_count": 8,
   "metadata": {},
   "outputs": [],
   "source": [
    "class Model(nn.Module):\n",
    "    def __init__(self):\n",
    "        super(Model, self).__init__()\n",
    "        # 총 4개의 hidden layer를 가진 NN\n",
    "        self.fc1 = nn.Linear(1, 128) # 1 input, 128 features(nodes)\n",
    "        self.fc2 = nn.Linear(128, 128)\n",
    "        self.fc3 = nn.Linear(128, 128)\n",
    "        self.fc4 = nn.Linear(128, 1, bias=False) # 128 inputs, 1 output\n",
    "\n",
    "    def forward(self, x): # 위의 모델을 이용하여 실제로 연산할 때 호출되는 함수\n",
    "        x = F.relu(self.fc1(x)) # activation function으로 ReLU를 사용\n",
    "        x = F.relu(self.fc2(x)) \n",
    "        x = F.relu(self.fc3(x))\n",
    "        x = self.fc4(x)\n",
    "        return x"
   ]
  },
  {
   "cell_type": "markdown",
   "metadata": {},
   "source": [
    "## 인풋 데이터 생성"
   ]
  },
  {
   "cell_type": "markdown",
   "metadata": {},
   "source": [
    "F(x) = cos(1.5pi * x) + x + e (e~U(-0.2,0.2)) "
   ]
  },
  {
   "cell_type": "code",
   "execution_count": 9,
   "metadata": {},
   "outputs": [],
   "source": [
    "def true_fun(X):\n",
    "    noise = np.random.rand(X.shape[0]) * 0.4 - 0.2\n",
    "    return np.cos(1.5 * np.pi * X) + X + noise"
   ]
  },
  {
   "cell_type": "markdown",
   "metadata": {},
   "source": [
    "## 학습 결과 시각화"
   ]
  },
  {
   "cell_type": "code",
   "execution_count": 10,
   "metadata": {},
   "outputs": [],
   "source": [
    "\n",
    "def plot_results(model):\n",
    "    x = np.linspace(0, 5, 100)\n",
    "    input_x = torch.from_numpy(x).float().unsqueeze(1)\n",
    "    plt.plot(x, true_fun(x), label=\"Truth\")\n",
    "    plt.plot(x, model(input_x).detach().numpy(), label=\"Prediction\")\n",
    "    plt.legend(loc='lower right', fontsize=15)\n",
    "    plt.xlim((0, 5))\n",
    "    plt.ylim((-1, 5))\n",
    "    plt.grid()\n",
    "    plt.show()"
   ]
  },
  {
   "cell_type": "markdown",
   "metadata": {},
   "source": [
    "## 신경망 학습"
   ]
  },
  {
   "cell_type": "code",
   "execution_count": 15,
   "metadata": {},
   "outputs": [],
   "source": [
    "@logging_time\n",
    "def main():\n",
    "    data_x = np.random.rand(10000) * 5 # 0~5 사이 숫자 1만개를 샘플링하여 인풋으로 사용\n",
    "    model = Model()\n",
    "    optimizer = optim.Adam(model.parameters(), lr=0.001)\n",
    "\n",
    "    for step in range(10000): # 1만번 파라미터 업데이트\n",
    "        batch_x = np.random.choice(data_x, 32) # 랜덤하게 뽑힌 32개의 데이터로 mini-batch를 구성\n",
    "        batch_x_tensor = torch.from_numpy(batch_x).float().unsqueeze(1) # 인풋 데이터를 torch tensor로 변환\n",
    "        pred = model(batch_x_tensor) # 모델에 인풋을 넣어서 예측값을 계산\n",
    "\n",
    "        batch_y = true_fun(batch_x) # 실제 값을 계산\n",
    "        truth = torch.from_numpy(batch_y).float().unsqueeze(1) # 실제 값을 torch tensor로 변환\n",
    "\n",
    "        loss = F.mse_loss(pred, truth) # 손실 함수인 MSE를 사용하여 loss를 계산\n",
    "\n",
    "        optimizer.zero_grad() # 루프가 한번 돌고나서 역전파를 하기전에 반드시 zero_grad()로 .grad 값들을 0으로 초기화\n",
    "        loss.mean().backward() # 역전파를 통한 그라이언트 계산이 일어나는 부분\n",
    "        optimizer.step() # 실제로 파라미터를 업데이트하는 부분\n",
    "\n",
    "    plot_results(model)\n",
    "    print(\"Train MSE: {}\".format(loss.mean().item()))"
   ]
  },
  {
   "cell_type": "code",
   "execution_count": 16,
   "metadata": {},
   "outputs": [
    {
     "data": {
      "image/png": "[encoded data removed]",
      "text/plain": [
       "<Figure size 432x288 with 1 Axes>"
      ]
     },
     "metadata": {
      "needs_background": "light"
     },
     "output_type": "display_data"
    },
    {
     "name": "stdout",
     "output_type": "stream",
     "text": [
      "Train MSE: 0.01703920029103756\n",
      "Running Time[main]: 7.71068335 sec\n"
     ]
    }
   ],
   "source": [
    "if __name__ == '__main__':\n",
    "    main()"
   ]
  }
 ],
 "metadata": {
  "kernelspec": {
   "display_name": "Python 3",
   "language": "python",
   "name": "python3"
  },
  "language_info": {
   "codemirror_mode": {
    "name": "ipython",
    "version": 3
   },
   "file_extension": ".py",
   "mimetype": "text/x-python",
   "name": "python",
   "nbconvert_exporter": "python",
   "pygments_lexer": "ipython3",
   "version": "3.10.12"
  }
 },
 "nbformat": 4,
 "nbformat_minor": 2
}
